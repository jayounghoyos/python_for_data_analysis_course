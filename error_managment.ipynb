{
 "cells": [
  {
   "cell_type": "code",
   "execution_count": 7,
   "id": "0fa8eb97-cc60-4bb7-9e93-6b4797c98e20",
   "metadata": {},
   "outputs": [
    {
     "name": "stdout",
     "output_type": "stream",
     "text": [
      "Hubo un erro al tratar de imprimir\n",
      "Se termina el bloque try-except. Esto simepre se ejecuta\n"
     ]
    }
   ],
   "source": [
    "try:\n",
    "    print(f\"la variable es: {x}\")\n",
    "except:\n",
    "    print(\"Hubo un erro al tratar de imprimir\")\n",
    "else:\n",
    "    print(\"La variable 'x' se imprimió correctamente\")\n",
    "finally:\n",
    "    print(\"Se termina el bloque try-except. Esto simepre se ejecuta\")"
   ]
  },
  {
   "cell_type": "code",
   "execution_count": 8,
   "id": "df69b4b4",
   "metadata": {},
   "outputs": [
    {
     "name": "stdout",
     "output_type": "stream",
     "text": [
      "name 'x' is not defined\n",
      "<class 'NameError'>\n",
      "Se termina el bloque try-except. Esto simepre se ejecuta\n"
     ]
    }
   ],
   "source": [
    "try:\n",
    "    print(f\"la variable es: {x}\")\n",
    "except Exception as e:\n",
    "    print(e)\n",
    "    print(e.__class__)\n",
    "else:\n",
    "    print(\"La variable 'x' se imprimió correctamente\")\n",
    "finally:\n",
    "    print(\"Se termina el bloque try-except. Esto simepre se ejecuta\")"
   ]
  },
  {
   "cell_type": "code",
   "execution_count": 9,
   "id": "5af44f6e",
   "metadata": {},
   "outputs": [
    {
     "name": "stdout",
     "output_type": "stream",
     "text": [
      "NameError(\"name 'x' is not defined\")\n",
      "Se termina el bloque try-except. Esto simepre se ejecuta\n"
     ]
    }
   ],
   "source": [
    "try:\n",
    "    print(f\"la variable es: {x}\")\n",
    "except Exception as e:\n",
    "    print(f\"{repr(e)}\")\n",
    "else:\n",
    "    print(\"La variable 'x' se imprimió correctamente\")\n",
    "finally:\n",
    "    print(\"Se termina el bloque try-except. Esto simepre se ejecuta\")"
   ]
  },
  {
   "cell_type": "code",
   "execution_count": 10,
   "id": "524621be",
   "metadata": {},
   "outputs": [
    {
     "name": "stdout",
     "output_type": "stream",
     "text": [
      "la variable x no existe\n",
      "Se termina el bloque try-except. Esto simepre se ejecuta\n"
     ]
    }
   ],
   "source": [
    "try:\n",
    "    print(f\"la variable es: {x}\")\n",
    "except NameError:\n",
    "    print(f\"la variable x no existe\")\n",
    "else:\n",
    "    print(\"La variable 'x' se imprimió correctamente\")\n",
    "finally:\n",
    "    print(\"Se termina el bloque try-except. Esto simepre se ejecuta\")"
   ]
  },
  {
   "cell_type": "code",
   "execution_count": 1,
   "id": "0ffda4dc",
   "metadata": {},
   "outputs": [
    {
     "name": "stdout",
     "output_type": "stream",
     "text": [
      "Ups! no es valido, intenalo de nuevo\n",
      "Ups! no es valido, intenalo de nuevo\n",
      "Ups! no es valido, intenalo de nuevo\n",
      "23123123123213213213213213213123123\n"
     ]
    }
   ],
   "source": [
    "while True:\n",
    "    try:\n",
    "        edad = int(input(\"Ingresa tu edad: \"))\n",
    "        print(edad)\n",
    "        break\n",
    "    except ValueError:\n",
    "        print(\"Ups! no es valido, intenalo de nuevo\")"
   ]
  },
  {
   "cell_type": "code",
   "execution_count": null,
   "id": "266eedb8",
   "metadata": {},
   "outputs": [],
   "source": []
  }
 ],
 "metadata": {
  "kernelspec": {
   "display_name": "Python 3 (ipykernel)",
   "language": "python",
   "name": "python3"
  },
  "language_info": {
   "codemirror_mode": {
    "name": "ipython",
    "version": 3
   },
   "file_extension": ".py",
   "mimetype": "text/x-python",
   "name": "python",
   "nbconvert_exporter": "python",
   "pygments_lexer": "ipython3",
   "version": "3.12.7"
  }
 },
 "nbformat": 4,
 "nbformat_minor": 5
}
